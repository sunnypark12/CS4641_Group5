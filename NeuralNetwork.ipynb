{
 "cells": [
  {
   "cell_type": "markdown",
   "metadata": {},
   "source": [
    "# Introduction\n",
    "\n",
    "This Jupyter notebook demonstrates a simple neural network implemented in PyTorch\n",
    "for regression tasks using a dataset loaded from a CSV file, which was heart failure data after PCA implementation.\n"
   ]
  },
  {
   "cell_type": "code",
   "execution_count": 1,
   "metadata": {},
   "outputs": [],
   "source": [
    "\n",
    "# Imports\n",
    "import pandas as pd\n",
    "import torch\n",
    "import torch.nn as nn\n",
    "import torch.optim as optim\n",
    "from sklearn.model_selection import train_test_split\n",
    "from sklearn.preprocessing import StandardScaler, OneHotEncoder\n",
    "from torch.utils.data import DataLoader, TensorDataset\n",
    "import matplotlib.pyplot as plt\n"
   ]
  },
  {
   "cell_type": "markdown",
   "metadata": {},
   "source": [
    "## Data Loading and Inspection\n",
    "\n",
    "In this section, we load the dataset from a CSV file and inspect the data to understand its structure and characteristics.\n"
   ]
  },
  {
   "cell_type": "code",
   "execution_count": 2,
   "metadata": {},
   "outputs": [
    {
     "name": "stdout",
     "output_type": "stream",
     "text": [
      "        PC1       PC2       PC3       PC4       PC5       PC6       PC7  \\\n",
      "0 -2.955159 -1.560260  0.097974  0.896793  0.700994 -0.245900  0.867275   \n",
      "1 -0.770247  1.315624 -1.927614 -2.148217 -0.907282  1.481883  0.116760   \n",
      "2 -1.908705 -0.592362  1.159538  2.901140 -1.311335 -0.191523 -0.039797   \n",
      "3  2.000908  0.703153 -3.283777  0.089905  0.117482  0.185970 -0.285569   \n",
      "4 -1.913519 -1.106466  0.781337 -1.146080 -0.739537  1.529513 -0.887756   \n",
      "\n",
      "        PC8  \n",
      "0 -0.856372  \n",
      "1  0.562671  \n",
      "2  0.234949  \n",
      "3  0.713701  \n",
      "4 -0.800937  \n",
      "                PC1           PC2           PC3         PC4           PC5  \\\n",
      "count  7.460000e+02  7.460000e+02  7.460000e+02  746.000000  7.460000e+02   \n",
      "mean   7.619761e-17  7.619761e-17  7.619761e-17    0.000000  1.904940e-17   \n",
      "std    2.305208e+00  1.421294e+00  1.353029e+00    1.193318  1.151826e+00   \n",
      "min   -4.147973e+00 -2.339167e+00 -3.660851e+00   -2.910956 -3.582033e+00   \n",
      "25%   -2.119389e+00 -1.289077e+00 -9.954078e-01   -0.778808 -6.493432e-01   \n",
      "50%   -1.434111e-01  5.691637e-03  1.175101e-01   -0.024978  7.302230e-02   \n",
      "75%    2.203752e+00  9.170308e-01  8.593915e-01    0.854116  5.521183e-01   \n",
      "max    4.328369e+00  4.443497e+00  4.170704e+00    2.963928  4.702665e+00   \n",
      "\n",
      "                PC6           PC7           PC8  \n",
      "count  7.460000e+02  7.460000e+02  7.460000e+02  \n",
      "mean  -1.142964e-16  7.143526e-17 -7.143526e-17  \n",
      "std    1.141973e+00  1.080897e+00  1.042044e+00  \n",
      "min   -3.007751e+00 -3.260384e+00 -3.805724e+00  \n",
      "25%   -6.595377e-01 -6.847099e-01 -6.496653e-01  \n",
      "50%    2.296473e-02 -3.949480e-02 -3.091361e-02  \n",
      "75%    6.960532e-01  5.851336e-01  6.022543e-01  \n",
      "max    4.229998e+00  4.310372e+00  4.560741e+00  \n",
      "PC1    float64\n",
      "PC2    float64\n",
      "PC3    float64\n",
      "PC4    float64\n",
      "PC5    float64\n",
      "PC6    float64\n",
      "PC7    float64\n",
      "PC8    float64\n",
      "dtype: object\n"
     ]
    }
   ],
   "source": [
    "# Load CSV data\n",
    "data_path = './Data/pca_output.csv'\n",
    "data = pd.read_csv(data_path)\n",
    "\n",
    "# Inspect data\n",
    "print(data.head())\n",
    "print(data.describe())\n",
    "print(data.dtypes)\n"
   ]
  },
  {
   "cell_type": "markdown",
   "metadata": {},
   "source": [
    "## Data Preprocessing\n",
    "\n",
    "Next, we preprocess the data. This includes:\n",
    "1. Identifying target and feature columns.\n",
    "2. One-hot encoding categorical features.\n",
    "3. Standardizing numerical features.\n",
    "4. Splitting the data into training and testing sets.\n",
    "5. Converting the data into PyTorch tensors.\n"
   ]
  },
  {
   "cell_type": "code",
   "execution_count": 3,
   "metadata": {},
   "outputs": [],
   "source": [
    "# Assuming the last column is the target and others are features\n",
    "target_column = data.columns[-1]\n",
    "categorical_columns = data.select_dtypes(include=['object', 'category']).columns.tolist()\n",
    "numerical_columns = data.select_dtypes(include=['number']).columns.tolist()\n",
    "numerical_columns.remove(target_column)\n",
    "\n",
    "# One-Hot Encode categorical columns\n",
    "encoder = OneHotEncoder(sparse_output=False, drop='first')\n",
    "encoded_categorical_data = encoder.fit_transform(data[categorical_columns])\n",
    "\n",
    "# Concatenate numerical and encoded categorical data\n",
    "X = pd.concat([data[numerical_columns], pd.DataFrame(encoded_categorical_data)], axis=1).values\n",
    "y = data[target_column].values\n",
    "\n",
    "# Split data into train and test sets\n",
    "X_train, X_test, y_train, y_test = train_test_split(X, y, test_size=0.2, random_state=42)\n",
    "\n",
    "# Standardize the data\n",
    "scaler = StandardScaler()\n",
    "X_train = scaler.fit_transform(X_train)\n",
    "X_test = scaler.transform(X_test)\n",
    "\n",
    "# Convert data to PyTorch tensors\n",
    "X_train_tensor = torch.tensor(X_train, dtype=torch.float32)\n",
    "y_train_tensor = torch.tensor(y_train, dtype=torch.float32).view(-1, 1)\n",
    "X_test_tensor = torch.tensor(X_test, dtype=torch.float32)\n",
    "y_test_tensor = torch.tensor(y_test, dtype=torch.float32).view(-1, 1)\n"
   ]
  },
  {
   "cell_type": "markdown",
   "metadata": {},
   "source": [
    "## Creating Datasets and DataLoaders\n",
    "\n",
    "We create PyTorch datasets and dataloaders for batch processing. This helps in efficiently feeding data to the neural network during training.\n"
   ]
  },
  {
   "cell_type": "code",
   "execution_count": 4,
   "metadata": {},
   "outputs": [],
   "source": [
    "# Create DataLoader for batch processing\n",
    "train_dataset = TensorDataset(X_train_tensor, y_train_tensor)\n",
    "test_dataset = TensorDataset(X_test_tensor, y_test_tensor)\n",
    "\n",
    "train_loader = DataLoader(train_dataset, batch_size=32, shuffle=True)\n",
    "test_loader = DataLoader(test_dataset, batch_size=32, shuffle=False)\n"
   ]
  },
  {
   "cell_type": "markdown",
   "metadata": {},
   "source": [
    "## Defining the Neural Network\n",
    "\n",
    "Here, we define a simple neural network class in PyTorch. This neural network consists of three fully connected layers with ReLU activation functions.\n"
   ]
  },
  {
   "cell_type": "code",
   "execution_count": 5,
   "metadata": {},
   "outputs": [],
   "source": [
    "# Define a simple neural network\n",
    "class SimpleNN(nn.Module):\n",
    "    def __init__(self, input_size):\n",
    "        super(SimpleNN, self).__init__()\n",
    "        self.fc1 = nn.Linear(input_size, 64)\n",
    "        self.fc2 = nn.Linear(64, 32)\n",
    "        self.fc3 = nn.Linear(32, 1)\n",
    "    \n",
    "    def forward(self, x):\n",
    "        x = torch.relu(self.fc1(x))\n",
    "        x = torch.relu(self.fc2(x))\n",
    "        x = self.fc3(x)\n",
    "        return x\n",
    "\n",
    "# Initialize the model, loss function, and optimizer\n",
    "input_size = X_train.shape[1]\n",
    "model = SimpleNN(input_size)\n",
    "criterion = nn.MSELoss()\n",
    "optimizer = optim.Adam(model.parameters(), lr=0.001)\n"
   ]
  },
  {
   "cell_type": "markdown",
   "metadata": {},
   "source": [
    "## Training the Neural Network\n",
    "\n",
    "In this section, we train the neural network. We define the training loop, specify the loss function, and use the Adam optimizer. We also record the training and testing losses at each epoch.\n"
   ]
  },
  {
   "cell_type": "code",
   "execution_count": 6,
   "metadata": {},
   "outputs": [
    {
     "name": "stdout",
     "output_type": "stream",
     "text": [
      "Epoch 1/50, Train Loss: 0.9977294363473591, Test Loss: 1.3319382548332215\n",
      "Epoch 2/50, Train Loss: 0.9263096200792413, Test Loss: 1.2945844650268554\n",
      "Epoch 3/50, Train Loss: 0.8837851317305314, Test Loss: 1.2485060811042785\n",
      "Epoch 4/50, Train Loss: 0.8104926316361678, Test Loss: 1.2015039205551148\n",
      "Epoch 5/50, Train Loss: 0.7449874689704493, Test Loss: 1.1604058027267456\n",
      "Epoch 6/50, Train Loss: 0.6543619091573515, Test Loss: 1.1051600217819213\n",
      "Epoch 7/50, Train Loss: 0.6006276764367756, Test Loss: 1.062079918384552\n",
      "Epoch 8/50, Train Loss: 0.5274628839994732, Test Loss: 1.0187096118927002\n",
      "Epoch 9/50, Train Loss: 0.4789176222525145, Test Loss: 1.000623631477356\n",
      "Epoch 10/50, Train Loss: 0.44920054705519424, Test Loss: 0.9755876898765564\n",
      "Epoch 11/50, Train Loss: 0.4098478587050187, Test Loss: 0.9446150481700897\n",
      "Epoch 12/50, Train Loss: 0.3912822941416188, Test Loss: 0.9310940861701965\n",
      "Epoch 13/50, Train Loss: 0.3627033217957145, Test Loss: 0.9096498429775238\n",
      "Epoch 14/50, Train Loss: 0.3484721960205781, Test Loss: 0.8969025611877441\n",
      "Epoch 15/50, Train Loss: 0.3295937917734447, Test Loss: 0.8784326076507568\n",
      "Epoch 16/50, Train Loss: 0.3149368613958359, Test Loss: 0.872790801525116\n",
      "Epoch 17/50, Train Loss: 0.29748335559117167, Test Loss: 0.8589033603668212\n",
      "Epoch 18/50, Train Loss: 0.2899443640520698, Test Loss: 0.8301888763904571\n",
      "Epoch 19/50, Train Loss: 0.2730540362627883, Test Loss: 0.8298416554927825\n",
      "Epoch 20/50, Train Loss: 0.26014100642580734, Test Loss: 0.803247481584549\n",
      "Epoch 21/50, Train Loss: 0.2538663133194572, Test Loss: 0.8020000994205475\n",
      "Epoch 22/50, Train Loss: 0.24312116480187365, Test Loss: 0.7955273807048797\n",
      "Epoch 23/50, Train Loss: 0.23705044584838966, Test Loss: 0.7767861425876618\n",
      "Epoch 24/50, Train Loss: 0.2241969108581543, Test Loss: 0.762202787399292\n",
      "Epoch 25/50, Train Loss: 0.2218134842420879, Test Loss: 0.7630265176296234\n",
      "Epoch 26/50, Train Loss: 0.21550792455673218, Test Loss: 0.7543153136968612\n",
      "Epoch 27/50, Train Loss: 0.21423160833747765, Test Loss: 0.7568010687828064\n",
      "Epoch 28/50, Train Loss: 0.2101484219494619, Test Loss: 0.728324431180954\n",
      "Epoch 29/50, Train Loss: 0.20841472635143682, Test Loss: 0.7327874153852463\n",
      "Epoch 30/50, Train Loss: 0.20263733832459702, Test Loss: 0.7246420443058014\n",
      "Epoch 31/50, Train Loss: 0.1932851178081412, Test Loss: 0.7358751624822617\n",
      "Epoch 32/50, Train Loss: 0.19652979389617317, Test Loss: 0.7183620005846023\n",
      "Epoch 33/50, Train Loss: 0.1849986079492067, Test Loss: 0.7117320477962494\n",
      "Epoch 34/50, Train Loss: 0.18948791332935033, Test Loss: 0.7080088704824448\n",
      "Epoch 35/50, Train Loss: 0.1802151607055413, Test Loss: 0.7120198488235474\n",
      "Epoch 36/50, Train Loss: 0.18126720111621053, Test Loss: 0.7012273281812668\n",
      "Epoch 37/50, Train Loss: 0.172618567943573, Test Loss: 0.6895688146352768\n",
      "Epoch 38/50, Train Loss: 0.17736870324925372, Test Loss: 0.7110657632350922\n",
      "Epoch 39/50, Train Loss: 0.167689526943784, Test Loss: 0.6931762725114823\n",
      "Epoch 40/50, Train Loss: 0.16169843469795428, Test Loss: 0.6997643917798996\n",
      "Epoch 41/50, Train Loss: 0.16405570467835978, Test Loss: 0.6861222743988037\n",
      "Epoch 42/50, Train Loss: 0.1619147501493755, Test Loss: 0.6912554264068603\n",
      "Epoch 43/50, Train Loss: 0.16070279910376198, Test Loss: 0.6813181430101395\n",
      "Epoch 44/50, Train Loss: 0.15666215200173228, Test Loss: 0.673354709148407\n",
      "Epoch 45/50, Train Loss: 0.15022754747616618, Test Loss: 0.6861450850963593\n",
      "Epoch 46/50, Train Loss: 0.14755426425682872, Test Loss: 0.6806450575590134\n",
      "Epoch 47/50, Train Loss: 0.14708180784394867, Test Loss: 0.6687986850738525\n",
      "Epoch 48/50, Train Loss: 0.14420128848991895, Test Loss: 0.6830158352851867\n",
      "Epoch 49/50, Train Loss: 0.1390160373166988, Test Loss: 0.6847860485315322\n",
      "Epoch 50/50, Train Loss: 0.1391891421456086, Test Loss: 0.6715358942747116\n"
     ]
    }
   ],
   "source": [
    "# Training loop with recording losses\n",
    "num_epochs = 50\n",
    "train_losses = []\n",
    "test_losses = []\n",
    "\n",
    "for epoch in range(num_epochs):\n",
    "    model.train()\n",
    "    running_loss = 0.0\n",
    "    for batch_X, batch_y in train_loader:\n",
    "        optimizer.zero_grad()\n",
    "        outputs = model(batch_X)\n",
    "        loss = criterion(outputs, batch_y)\n",
    "        loss.backward()\n",
    "        optimizer.step()\n",
    "        running_loss += loss.item()\n",
    "    \n",
    "    train_losses.append(running_loss / len(train_loader))\n",
    "    \n",
    "    model.eval()\n",
    "    test_loss = 0.0\n",
    "    with torch.no_grad():\n",
    "        for batch_X, batch_y in test_loader:\n",
    "            outputs = model(batch_X)\n",
    "            loss = criterion(outputs, batch_y)\n",
    "            test_loss += loss.item()\n",
    "    \n",
    "    test_losses.append(test_loss / len(test_loader))\n",
    "    \n",
    "    print(f'Epoch {epoch+1}/{num_epochs}, Train Loss: {train_losses[-1]}, Test Loss: {test_losses[-1]}')\n"
   ]
  },
  {
   "cell_type": "markdown",
   "metadata": {},
   "source": [
    "## Evaluating and Plotting Results\n",
    "\n",
    "Finally, we evaluate the neural network by plotting the training and validation losses over epochs to visualize the model's performance.\n"
   ]
  },
  {
   "cell_type": "code",
   "execution_count": 7,
   "metadata": {},
   "outputs": [
    {
     "data": {
      "image/png": "[encoded data removed]",
      "text/plain": [
       "<Figure size 1000x500 with 1 Axes>"
      ]
     },
     "metadata": {},
     "output_type": "display_data"
    }
   ],
   "source": [
    "# Plotting the losses\n",
    "plt.figure(figsize=(10, 5))\n",
    "plt.plot(range(1, num_epochs + 1), train_losses, label='Train Loss')\n",
    "plt.plot(range(1, num_epochs + 1), test_losses, label='Test Loss')\n",
    "plt.xlabel('Epoch')\n",
    "plt.ylabel('Loss')\n",
    "plt.title('Training and Validation Loss over Epochs')\n",
    "plt.legend()\n",
    "plt.show()\n"
   ]
  }
 ],
 "metadata": {
  "kernelspec": {
   "display_name": "base",
   "language": "python",
   "name": "python3"
  },
  "language_info": {
   "codemirror_mode": {
    "name": "ipython",
    "version": 3
   },
   "file_extension": ".py",
   "mimetype": "text/x-python",
   "name": "python",
   "nbconvert_exporter": "python",
   "pygments_lexer": "ipython3",
   "version": "3.12.2"
  }
 },
 "nbformat": 4,
 "nbformat_minor": 2
}
